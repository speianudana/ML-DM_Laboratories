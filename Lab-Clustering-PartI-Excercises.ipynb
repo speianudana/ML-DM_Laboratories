{
 "cells": [
  {
   "cell_type": "markdown",
   "metadata": {},
   "source": [
    "# LAB 4: Clustering (Unsupervised learning)"
   ]
  },
  {
   "cell_type": "markdown",
   "metadata": {},
   "source": [
    "## Part I : Exercises"
   ]
  },
  {
   "cell_type": "markdown",
   "metadata": {},
   "source": [
    "### Exercise 1"
   ]
  },
  {
   "cell_type": "code",
   "execution_count": 1,
   "metadata": {},
   "outputs": [
    {
     "ename": "ModuleNotFoundError",
     "evalue": "No module named 'scipy'",
     "output_type": "error",
     "traceback": [
      "\u001b[1;31m---------------------------------------------------------------------------\u001b[0m",
      "\u001b[1;31mModuleNotFoundError\u001b[0m                       Traceback (most recent call last)",
      "\u001b[1;32m~\\AppData\\Local\\Temp/ipykernel_16080/2097474627.py\u001b[0m in \u001b[0;36m<module>\u001b[1;34m\u001b[0m\n\u001b[0;32m      1\u001b[0m \u001b[1;32mimport\u001b[0m \u001b[0mpandas\u001b[0m\u001b[1;33m\u001b[0m\u001b[1;33m\u001b[0m\u001b[0m\n\u001b[1;32m----> 2\u001b[1;33m \u001b[1;32mfrom\u001b[0m \u001b[0mscipy\u001b[0m\u001b[1;33m.\u001b[0m\u001b[0mcluster\u001b[0m\u001b[1;33m.\u001b[0m\u001b[0mhierarchy\u001b[0m \u001b[1;32mimport\u001b[0m \u001b[0mlinkage\u001b[0m\u001b[1;33m\u001b[0m\u001b[1;33m\u001b[0m\u001b[0m\n\u001b[0m\u001b[0;32m      3\u001b[0m \u001b[1;32mfrom\u001b[0m \u001b[0mscipy\u001b[0m\u001b[1;33m.\u001b[0m\u001b[0mcluster\u001b[0m\u001b[1;33m.\u001b[0m\u001b[0mhierarchy\u001b[0m \u001b[1;32mimport\u001b[0m \u001b[0mdendrogram\u001b[0m\u001b[1;33m\u001b[0m\u001b[1;33m\u001b[0m\u001b[0m\n\u001b[0;32m      4\u001b[0m \u001b[0md\u001b[0m \u001b[1;33m=\u001b[0m \u001b[1;33m[\u001b[0m\u001b[1;36m0.3\u001b[0m\u001b[1;33m,\u001b[0m \u001b[1;36m0.4\u001b[0m\u001b[1;33m,\u001b[0m \u001b[1;36m0.7\u001b[0m\u001b[1;33m,\u001b[0m\u001b[1;36m0.5\u001b[0m\u001b[1;33m,\u001b[0m \u001b[1;36m0.8\u001b[0m\u001b[1;33m,\u001b[0m\u001b[1;36m0.45\u001b[0m\u001b[1;33m]\u001b[0m \u001b[1;31m# d should be a condensed distance matrix, like an object returned by pdist() function\u001b[0m\u001b[1;33m\u001b[0m\u001b[1;33m\u001b[0m\u001b[0m\n",
      "\u001b[1;31mModuleNotFoundError\u001b[0m: No module named 'scipy'"
     ]
    }
   ],
   "source": [
    "import pandas\n",
    "from scipy.cluster.hierarchy import linkage\n",
    "from scipy.cluster.hierarchy import dendrogram\n",
    "d = [0.3, 0.4, 0.7,0.5, 0.8,0.45] # d should be a condensed distance matrix, like an object returned by pdist() function"
   ]
  },
  {
   "cell_type": "code",
   "execution_count": null,
   "metadata": {},
   "outputs": [
    {
     "data": {
      "text/plain": [
       "{'color_list': ['g', 'r', 'b'],\n",
       " 'dcoord': [[0.0, 0.3, 0.3, 0.0],\n",
       "  [0.0, 0.45, 0.45, 0.0],\n",
       "  [0.3, 0.8, 0.8, 0.45]],\n",
       " 'icoord': [[5.0, 5.0, 15.0, 15.0],\n",
       "  [25.0, 25.0, 35.0, 35.0],\n",
       "  [10.0, 10.0, 30.0, 30.0]],\n",
       " 'ivl': [1, 2, 3, 4],\n",
       " 'leaves': [0, 1, 2, 3]}"
      ]
     },
     "execution_count": 2,
     "metadata": {},
     "output_type": "execute_result"
    }
   ],
   "source": [
    "# a) complete linkage\n",
    "exo1_hc_complete = linkage(d, \"complete\")\n",
    "dendrogram(exo1_hc_complete,labels=[1,2,3,4])"
   ]
  },
  {
   "cell_type": "code",
   "execution_count": null,
   "metadata": {},
   "outputs": [
    {
     "data": {
      "text/plain": [
       "{'color_list': ['g', 'b', 'b'],\n",
       " 'dcoord': [[0.0, 0.3, 0.3, 0.0],\n",
       "  [0.0, 0.4, 0.4, 0.3],\n",
       "  [0.0, 0.45, 0.45, 0.4]],\n",
       " 'icoord': [[25.0, 25.0, 35.0, 35.0],\n",
       "  [15.0, 15.0, 30.0, 30.0],\n",
       "  [5.0, 5.0, 22.5, 22.5]],\n",
       " 'ivl': [4, 3, 1, 2],\n",
       " 'leaves': [3, 2, 0, 1]}"
      ]
     },
     "execution_count": 3,
     "metadata": {},
     "output_type": "execute_result"
    },
    {
     "data": {
      "image/png": "[encoded data removed]",
      "text/plain": [
       "<matplotlib.figure.Figure at 0x10a41eb50>"
      ]
     },
     "metadata": {},
     "output_type": "display_data"
    }
   ],
   "source": [
    "# b) complete single\n",
    "exo1_hc_single = linkage(d, \"single\")\n",
    "dendrogram(exo1_hc_single,labels=[1,2,3,4])"
   ]
  },
  {
   "cell_type": "code",
   "execution_count": null,
   "metadata": {},
   "outputs": [
    {
     "name": "stdout",
     "output_type": "stream",
     "text": [
      "[[0]\n",
      " [0]\n",
      " [1]\n",
      " [1]]\n",
      "[[0]\n",
      " [0]\n",
      " [0]\n",
      " [1]]\n"
     ]
    }
   ],
   "source": [
    "from scipy.cluster.hierarchy import cut_tree\n",
    "print(cut_tree(exo1_hc_complete, n_clusters = 2)) \n",
    "#c) (1,2), (3,4)\n",
    "print(cut_tree(exo1_hc_single, n_clusters = 2)) \n",
    "#d) (1, 2, 3), (4)"
   ]
  },
  {
   "cell_type": "code",
   "execution_count": null,
   "metadata": {},
   "outputs": [
    {
     "name": "stdout",
     "output_type": "stream",
     "text": [
      "   sub-cluster  sub-cluster  distance  cluster size\n",
      "0          0.0          1.0      0.30           2.0\n",
      "1          2.0          3.0      0.45           2.0\n",
      "2          4.0          5.0      0.80           4.0\n"
     ]
    }
   ],
   "source": [
    "column_labels = [\"sub-cluster\",\"sub-cluster\",\"distance\",\"cluster size\"]\n",
    "df = pandas.DataFrame(exo1_hc_complete, columns=column_labels)\n",
    "print(df)"
   ]
  },
  {
   "cell_type": "code",
   "execution_count": null,
   "metadata": {},
   "outputs": [
    {
     "name": "stdout",
     "output_type": "stream",
     "text": [
      "JOINS\n",
      "   sub-cluster  sub-cluster  distance  cluster size\n",
      "0          0.0          1.0      0.30           2.0\n",
      "1          2.0          4.0      0.40           3.0\n",
      "2          3.0          5.0      0.45           4.0\n"
     ]
    }
   ],
   "source": [
    "print(\"JOINS\")\n",
    "#print(\"sub-clusters\",\"distance\",\"cluster size\")\n",
    "df = pandas.DataFrame(exo1_hc_single, columns=column_labels)\n",
    "print(df)"
   ]
  },
  {
   "cell_type": "code",
   "execution_count": null,
   "metadata": {},
   "outputs": [
    {
     "data": {
      "text/plain": [
       "array([0.3 , 0.45, 0.8 ])"
      ]
     },
     "execution_count": 7,
     "metadata": {},
     "output_type": "execute_result"
    }
   ],
   "source": [
    "exo1_hc_complete[:,2] # to get the distances in the order the joins took place"
   ]
  },
  {
   "cell_type": "markdown",
   "metadata": {},
   "source": [
    "### Exercise 2"
   ]
  },
  {
   "cell_type": "code",
   "execution_count": null,
   "metadata": {},
   "outputs": [
    {
     "data": {
      "text/plain": [
       "[<matplotlib.lines.Line2D at 0x10a57e310>]"
      ]
     },
     "execution_count": 8,
     "metadata": {},
     "output_type": "execute_result"
    },
    {
     "data": {
      "image/png": "[encoded data removed]",
      "text/plain": [
       "<matplotlib.figure.Figure at 0x10a4cb890>"
      ]
     },
     "metadata": {},
     "output_type": "display_data"
    }
   ],
   "source": [
    "import matplotlib.pyplot as plt\n",
    "X1 = [1, 1, 0, 5, 6, 4]\n",
    "X2 = [4, 3, 4, 2, 2, 0]\n",
    "#a)\n",
    "plt.plot(X1,X2,\"o\")"
   ]
  },
  {
   "cell_type": "code",
   "execution_count": null,
   "metadata": {},
   "outputs": [
    {
     "name": "stdout",
     "output_type": "stream",
     "text": [
      "[2, 1, 2, 1, 2, 2]\n"
     ]
    }
   ],
   "source": [
    "#b)\n",
    "from random import choice\n",
    "l = [1, 2]  \n",
    "labels = [choice(l) for x in range(0,len(X1))]\n",
    "print(labels)"
   ]
  },
  {
   "cell_type": "code",
   "execution_count": null,
   "metadata": {},
   "outputs": [
    {
     "name": "stdout",
     "output_type": "stream",
     "text": [
      "[5.0, 1.3333333333333333]\n",
      "[0.6666666666666666, 3.6666666666666665]\n"
     ]
    },
    {
     "data": {
      "text/plain": [
       "[<matplotlib.lines.Line2D at 0x10ab1e290>]"
      ]
     },
     "execution_count": 77,
     "metadata": {},
     "output_type": "execute_result"
    },
    {
     "data": {
      "image/png": "[encoded data removed]",
      "text/plain": [
       "<matplotlib.figure.Figure at 0x10a7cd790>"
      ]
     },
     "metadata": {},
     "output_type": "display_data"
    }
   ],
   "source": [
    "#c) centroids\n",
    "def calculate_centroids(X,labels):\n",
    "    centroid1, centroid2,n1,n2=[0,0],[0,0],0,0\n",
    "    for i in range(0,len(X[0])):\n",
    "        if labels[i]==1:\n",
    "            centroid1[0]+=X[0][i]\n",
    "            centroid1[1]+=X[1][i]\n",
    "            n1+=1\n",
    "        else: \n",
    "            centroid2[0]+=X[0][i]\n",
    "            centroid2[1]+=X[1][i]\n",
    "            n2+=1\n",
    "    centroid1[0]=centroid1[0]*1.0/n1\n",
    "    centroid1[1]=centroid1[1]*1.0/n1\n",
    "    centroid2[0]=centroid2[0]*1.0/n2\n",
    "    centroid2[1]=centroid2[1]*1.0/n2\n",
    "    return[centroid1,centroid2]\n",
    "      \n",
    "c1,c2 =calculate_centroids(X,labels)[0],calculate_centroids(X,labels)[1]\n",
    "print(c1)\n",
    "print(c2)\n",
    "\n",
    "plt.plot(X1,X2,\"o\")\n",
    "plt.plot(c1[0],c1[1],\"*\",color=\"black\")\n",
    "plt.plot(c2[0],c2[1],\"*\",color=\"black\")"
   ]
  },
  {
   "cell_type": "code",
   "execution_count": null,
   "metadata": {},
   "outputs": [
    {
     "data": {
      "text/plain": [
       "2.5"
      ]
     },
     "execution_count": 33,
     "metadata": {},
     "output_type": "execute_result"
    }
   ],
   "source": [
    "#d\n",
    "import math\n",
    "def dist(x,centroid):\n",
    "    return(math.sqrt((x[0] - centroid[0])**2 + (x[1]-centroid[1])**2))\n",
    "dist([X1[0],X2[0]],centroid1)"
   ]
  },
  {
   "cell_type": "code",
   "execution_count": null,
   "metadata": {},
   "outputs": [
    {
     "name": "stdout",
     "output_type": "stream",
     "text": [
      "[2, 2, 2, 1, 1, 1]\n"
     ]
    }
   ],
   "source": [
    "def assign_labels(X, centroid1, centroid2):\n",
    "    labels = []\n",
    "    for i in range(len(X[0])):\n",
    "        if (dist([X[0][i],X[1][i]], centroid1) < dist([X[0][i],X[1][i]], centroid2)):\n",
    "            labels.append(1)\n",
    "        else:\n",
    "            labels.append(2)\n",
    "    return(labels)\n",
    "\n",
    "X =[X1,X2]\n",
    "labels = assign_labels(X, centroid1, centroid2)\n",
    "print(labels)"
   ]
  },
  {
   "cell_type": "code",
   "execution_count": null,
   "metadata": {},
   "outputs": [
    {
     "name": "stdout",
     "output_type": "stream",
     "text": [
      "[5.0, 1.3333333333333333]\n",
      "[0.6666666666666666, 3.6666666666666665]\n"
     ]
    }
   ],
   "source": [
    "#e)\n",
    "last_labels = []\n",
    "while (not(last_labels == labels)): \n",
    "    last_labels = labels\n",
    "    centroid1 = calculate_centroids(X,labels)[0]\n",
    "    centroid2 = calculate_centroids(X,labels)[1]\n",
    "    print(centroid1)\n",
    "    print(centroid2)\n",
    "    labels = assign_labels(X, centroid1, centroid2)\n"
   ]
  },
  {
   "cell_type": "code",
   "execution_count": null,
   "metadata": {},
   "outputs": [
    {
     "data": {
      "text/plain": [
       "[<matplotlib.lines.Line2D at 0x10a46ccd0>]"
      ]
     },
     "execution_count": 81,
     "metadata": {},
     "output_type": "execute_result"
    },
    {
     "data": {
      "image/png": "[encoded data removed]",
      "text/plain": [
       "<matplotlib.figure.Figure at 0x10a46c190>"
      ]
     },
     "metadata": {},
     "output_type": "display_data"
    }
   ],
   "source": [
    "for i in range(len(X[0])):\n",
    "    if labels[i] ==1:\n",
    "        col=\"red\"\n",
    "    else:\n",
    "        col=\"blue\"\n",
    "    plt.plot(X[0][i],X[1][i],\"o\",color=col)\n",
    "        \n",
    "plt.plot(centroid1[0],centroid1[1],\"*\",color=\"black\")\n",
    "plt.plot(centroid2[0],centroid2[1],\"*\",color=\"black\")"
   ]
  },
  {
   "cell_type": "code",
   "execution_count": null,
   "metadata": {},
   "outputs": [],
   "source": []
  },
  {
   "cell_type": "code",
   "execution_count": null,
   "metadata": {},
   "outputs": [],
   "source": []
  },
  {
   "cell_type": "code",
   "execution_count": null,
   "metadata": {},
   "outputs": [],
   "source": []
  },
  {
   "cell_type": "code",
   "execution_count": null,
   "metadata": {},
   "outputs": [],
   "source": []
  },
  {
   "cell_type": "code",
   "execution_count": null,
   "metadata": {},
   "outputs": [],
   "source": []
  },
  {
   "cell_type": "code",
   "execution_count": null,
   "metadata": {},
   "outputs": [],
   "source": []
  },
  {
   "cell_type": "code",
   "execution_count": null,
   "metadata": {},
   "outputs": [],
   "source": []
  }
 ],
 "metadata": {
  "interpreter": {
   "hash": "2647ea34e536f865ab67ff9ddee7fd78773d956cec0cab53c79b32cd10da5d83"
  },
  "kernelspec": {
   "display_name": "Python 2",
   "language": "python",
   "name": "python3"
  },
  "language_info": {
   "codemirror_mode": {
    "name": "ipython",
    "version": 3
   },
   "file_extension": ".py",
   "mimetype": "text/x-python",
   "name": "python",
   "nbconvert_exporter": "python",
   "pygments_lexer": "ipython3",
   "version": "3.9.7"
  }
 },
 "nbformat": 4,
 "nbformat_minor": 2
}
